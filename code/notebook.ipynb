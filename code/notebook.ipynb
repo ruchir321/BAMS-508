{
 "cells": [
  {
   "cell_type": "code",
   "execution_count": 3,
   "id": "13e5a366",
   "metadata": {},
   "outputs": [],
   "source": [
    "import numpy as np\n",
    "import pandas as pd\n",
    "from scipy.optimize import milp, LinearConstraint, Bounds"
   ]
  },
  {
   "cell_type": "code",
   "execution_count": 4,
   "id": "4fba301b",
   "metadata": {},
   "outputs": [],
   "source": [
    "df = pd.read_csv(\"../input/KPD_pool.csv\")"
   ]
  },
  {
   "cell_type": "code",
   "execution_count": 5,
   "id": "06466c60",
   "metadata": {},
   "outputs": [],
   "source": [
    "bt_D = pd.get_dummies(data=df[\"DonorBloodType\"],prefix=\"bt_D\",dtype=int)\n",
    "bt_P = pd.get_dummies(data=df[\"PatientBloodType\"],prefix=\"bt_P\",dtype=int)\n",
    "\n",
    "bt_D = bt_D[['bt_D_AB', 'bt_D_A', 'bt_D_B', 'bt_D_O']]\n",
    "bt_P = bt_P[['bt_P_AB', 'bt_P_A', 'bt_P_B', 'bt_P_O']]\n",
    "\n",
    "bt_D = np.asarray(bt_D,dtype=int)\n",
    "bt_P = np.asarray(bt_P,dtype=int)\n",
    "\n",
    "t_D = pd.get_dummies(data=df[\"DonorTissueType\"],prefix=\"t_D\",dtype=int)\n",
    "t_P = pd.get_dummies(data=df[\"PatientTissueType\"],prefix=\"t_P\",dtype=int)\n",
    "\n",
    "t_D = np.asarray(t_D,dtype=int)\n",
    "t_P = np.asarray(t_P,dtype=int)"
   ]
  },
  {
   "cell_type": "code",
   "execution_count": 6,
   "id": "796ea6b2",
   "metadata": {},
   "outputs": [],
   "source": [
    "M_tissue = np.identity(n=5,dtype=int)\n",
    "M_blood = np.array([[1,0,0,0],\n",
    "           [1,1,0,0],\n",
    "           [1,0,1,0],\n",
    "           [1,1,1,1]], dtype=int)"
   ]
  },
  {
   "cell_type": "code",
   "execution_count": 7,
   "id": "143a1468",
   "metadata": {},
   "outputs": [],
   "source": [
    "pairs = (bt_D @ M_blood @ bt_P.T) * (t_D @ M_tissue @ t_P.T)"
   ]
  },
  {
   "cell_type": "markdown",
   "id": "9a5b64c3",
   "metadata": {},
   "source": [
    "# constraints"
   ]
  },
  {
   "cell_type": "code",
   "execution_count": 8,
   "id": "9a11611d",
   "metadata": {},
   "outputs": [],
   "source": [
    "coefficients = -pairs.flatten()"
   ]
  },
  {
   "cell_type": "code",
   "execution_count": 9,
   "id": "1151f101",
   "metadata": {},
   "outputs": [],
   "source": [
    "D = pairs.shape[0]\n",
    "P = pairs.shape[1]"
   ]
  },
  {
   "cell_type": "code",
   "execution_count": null,
   "id": "971076c5",
   "metadata": {},
   "outputs": [],
   "source": [
    "A_donor = np.zeros(shape=(D, D*P), dtype=int)\n",
    "A_patient = np.zeros(shape=(P, D*P), dtype=int)\n",
    "\n",
    "for i in range(D):\n",
    "    for j in range(P):\n",
    "        A_donor[i, i * P + j] = 1\n",
    "\n",
    "for j in range(P):\n",
    "    for i in range(D):\n",
    "        A_patient[j, i * P + j] = 1\n",
    "\n",
    "A = np.vstack((A_donor, A_patient))\n",
    "b_ub = np.ones(D + P)"
   ]
  },
  {
   "cell_type": "code",
   "execution_count": 11,
   "id": "a34e7368",
   "metadata": {},
   "outputs": [],
   "source": [
    "constraints = LinearConstraint(\n",
    "    A=A,\n",
    "    lb=0,\n",
    "    ub=b_ub\n",
    ")"
   ]
  },
  {
   "cell_type": "code",
   "execution_count": 12,
   "id": "95b6d6de",
   "metadata": {},
   "outputs": [],
   "source": [
    "bounds = Bounds(\n",
    "    lb=0,\n",
    "    ub=1\n",
    ")"
   ]
  },
  {
   "cell_type": "code",
   "execution_count": 13,
   "id": "beaf94c3",
   "metadata": {},
   "outputs": [],
   "source": [
    "integrality = np.ones(D*P, dtype=int)"
   ]
  },
  {
   "cell_type": "code",
   "execution_count": 14,
   "id": "4ef86682",
   "metadata": {},
   "outputs": [],
   "source": [
    "result_milp = milp(\n",
    "    c=coefficients,\n",
    "    bounds=bounds,\n",
    "    constraints=constraints,\n",
    "    integrality=integrality\n",
    ")"
   ]
  },
  {
   "cell_type": "code",
   "execution_count": 15,
   "id": "72f75279",
   "metadata": {},
   "outputs": [
    {
     "data": {
      "text/plain": [
       "        message: Optimization terminated successfully. (HiGHS Status 7: Optimal)\n",
       "        success: True\n",
       "         status: 0\n",
       "            fun: -16.0\n",
       "              x: [ 0.000e+00  1.000e+00 ...  0.000e+00  0.000e+00]\n",
       " mip_node_count: 1\n",
       " mip_dual_bound: -16.0\n",
       "        mip_gap: 0.0"
      ]
     },
     "execution_count": 15,
     "metadata": {},
     "output_type": "execute_result"
    }
   ],
   "source": [
    "result_milp"
   ]
  },
  {
   "cell_type": "code",
   "execution_count": 16,
   "id": "d3ca8ed8",
   "metadata": {},
   "outputs": [
    {
     "data": {
      "text/plain": [
       "numpy.ndarray"
      ]
     },
     "execution_count": 16,
     "metadata": {},
     "output_type": "execute_result"
    }
   ],
   "source": [
    "type(result_milp.x)"
   ]
  },
  {
   "cell_type": "code",
   "execution_count": 17,
   "id": "446d7a42",
   "metadata": {},
   "outputs": [],
   "source": [
    "result_selection_matrix = result_milp.x.reshape(D, P)"
   ]
  },
  {
   "cell_type": "code",
   "execution_count": 18,
   "id": "8ab16ca2",
   "metadata": {},
   "outputs": [
    {
     "data": {
      "text/plain": [
       "(25, 25)"
      ]
     },
     "execution_count": 18,
     "metadata": {},
     "output_type": "execute_result"
    }
   ],
   "source": [
    "result_selection_matrix.shape"
   ]
  },
  {
   "cell_type": "code",
   "execution_count": 19,
   "id": "94c6622f",
   "metadata": {},
   "outputs": [
    {
     "name": "stdout",
     "output_type": "stream",
     "text": [
      "Donor 1 --> Patient 2\n",
      "Donor 2 --> Patient 12\n",
      "Donor 5 --> Patient 10\n",
      "Donor 9 --> Patient 22\n",
      "Donor 10 --> Patient 15\n",
      "Donor 11 --> Patient 24\n",
      "Donor 14 --> Patient 6\n",
      "Donor 15 --> Patient 7\n",
      "Donor 16 --> Patient 17\n",
      "Donor 17 --> Patient 21\n",
      "Donor 18 --> Patient 13\n",
      "Donor 19 --> Patient 23\n",
      "Donor 20 --> Patient 11\n",
      "Donor 22 --> Patient 4\n",
      "Donor 23 --> Patient 1\n",
      "Donor 24 --> Patient 14\n",
      "number of donations = 16\n"
     ]
    }
   ],
   "source": [
    "n_donations = 0\n",
    "for i in range(D):\n",
    "    for j in range(P):\n",
    "        if result_selection_matrix[i, j] == 1:\n",
    "            print(f\"Donor {i+1} --> Patient {j+1}\")\n",
    "            n_donations = n_donations + 1\n",
    "\n",
    "print(f\"number of donations = {n_donations}\")"
   ]
  },
  {
   "cell_type": "code",
   "execution_count": null,
   "id": "67f4d56e",
   "metadata": {},
   "outputs": [],
   "source": []
  }
 ],
 "metadata": {
  "kernelspec": {
   "display_name": "MBAN",
   "language": "python",
   "name": "python3"
  },
  "language_info": {
   "codemirror_mode": {
    "name": "ipython",
    "version": 3
   },
   "file_extension": ".py",
   "mimetype": "text/x-python",
   "name": "python",
   "nbconvert_exporter": "python",
   "pygments_lexer": "ipython3",
   "version": "3.13.5"
  }
 },
 "nbformat": 4,
 "nbformat_minor": 5
}
